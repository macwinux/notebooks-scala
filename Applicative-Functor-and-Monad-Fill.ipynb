{
 "cells": [
  {
   "cell_type": "markdown",
   "metadata": {},
   "source": [
    "# Functor"
   ]
  },
  {
   "cell_type": "markdown",
   "metadata": {},
   "source": [
    "A Functor is a type class and it is any data type that defines how map applies to it."
   ]
  },
  {
   "cell_type": "markdown",
   "metadata": {},
   "source": [
    "We have a Constructor C[_] and two types A and B, we want to apply functions of type C[A] => C[B], so we need adequate tranformations."
   ]
  },
  {
   "cell_type": "code",
   "execution_count": 7,
   "metadata": {},
   "outputs": [
    {
     "data": {
      "text/plain": [
       "defined \u001b[32mtrait\u001b[39m \u001b[36mFunctor\u001b[39m"
      ]
     },
     "execution_count": 7,
     "metadata": {},
     "output_type": "execute_result"
    }
   ],
   "source": [
    "trait Functor[F[_]] {\n",
    "    def map\n",
    "}"
   ]
  },
  {
   "cell_type": "markdown",
   "metadata": {},
   "source": [
    "![](images/functor2.png)"
   ]
  },
  {
   "cell_type": "markdown",
   "metadata": {},
   "source": [
    "We can test it with a class like Option:"
   ]
  },
  {
   "cell_type": "code",
   "execution_count": 17,
   "metadata": {},
   "outputs": [
    {
     "data": {
      "text/plain": [
       "defined \u001b[32mclass\u001b[39m \u001b[36mOptionFun\u001b[39m\n",
       "defined \u001b[32mclass\u001b[39m \u001b[36mSomeStuff\u001b[39m\n",
       "defined \u001b[32mobject\u001b[39m \u001b[36mNoneStuff\u001b[39m"
      ]
     },
     "execution_count": 17,
     "metadata": {},
     "output_type": "execute_result"
    }
   ],
   "source": [
    "sealed abstract class OptionFun[+A] {\n",
    "    def getValue: A = ???\n",
    "    \n",
    "    def isEmpty: Boolean = ???\n",
    "    def map[B](f:A => B): OptionFun[B] = ???\n",
    "}\n",
    "\n",
    "final case class SomeStuff[+A](value:A) extends OptionFun[A]{\n",
    "    def get: A = ???\n",
    "}\n",
    "\n",
    "case object NoneStuff extends OptionFun[Nothing]"
   ]
  },
  {
   "cell_type": "code",
   "execution_count": 16,
   "metadata": {},
   "outputs": [
    {
     "name": "stdout",
     "output_type": "stream",
     "text": [
      "new value 15\n"
     ]
    },
    {
     "data": {
      "text/plain": [
       "\u001b[36mopt\u001b[39m: \u001b[32mSomeStuff\u001b[39m[\u001b[32mInt\u001b[39m] = \u001b[33mSomeStuff\u001b[39m(\u001b[32m15\u001b[39m)"
      ]
     },
     "execution_count": 16,
     "metadata": {},
     "output_type": "execute_result"
    }
   ],
   "source": [
    "val opt = SomeStuff(15)\n",
    "println(\"new value \" + opt.map(_.toString).getValue)"
   ]
  },
  {
   "cell_type": "markdown",
   "metadata": {},
   "source": [
    "# Applicative"
   ]
  },
  {
   "cell_type": "markdown",
   "metadata": {},
   "source": [
    "Applicative is a type class and it is any data type that defines how apply applies to it."
   ]
  },
  {
   "cell_type": "markdown",
   "metadata": {},
   "source": [
    "Apply takes a functor that has a function in it and another functor and extracts that function from the first functor and then maps it over the second one."
   ]
  },
  {
   "cell_type": "markdown",
   "metadata": {},
   "source": [
    "We have a Constructor C[_] and two types A and B, we want to apply functions of type C[A] => C[B], so we need adequate tranformations."
   ]
  },
  {
   "cell_type": "code",
   "execution_count": 5,
   "metadata": {},
   "outputs": [
    {
     "data": {
      "text/plain": [
       "defined \u001b[32mtrait\u001b[39m \u001b[36mApplicative\u001b[39m"
      ]
     },
     "execution_count": 5,
     "metadata": {},
     "output_type": "execute_result"
    }
   ],
   "source": [
    "trait Applicative[F[_]] extends Functor[F] {\n",
    "    def pure\n",
    "    def apply\n",
    "    def map\n",
    "}"
   ]
  },
  {
   "cell_type": "markdown",
   "metadata": {},
   "source": [
    "![](images/applicative.png)"
   ]
  },
  {
   "cell_type": "markdown",
   "metadata": {},
   "source": [
    "Using our class OptionFun:"
   ]
  },
  {
   "cell_type": "code",
   "execution_count": 23,
   "metadata": {},
   "outputs": [
    {
     "data": {
      "text/plain": [
       "defined \u001b[32mobject\u001b[39m \u001b[36mOptionFun\u001b[39m\n",
       "defined \u001b[32mclass\u001b[39m \u001b[36mOptionFun\u001b[39m\n",
       "defined \u001b[32mclass\u001b[39m \u001b[36mSomeStuff\u001b[39m\n",
       "defined \u001b[32mobject\u001b[39m \u001b[36mNoneStuff\u001b[39m"
      ]
     },
     "execution_count": 23,
     "metadata": {},
     "output_type": "execute_result"
    }
   ],
   "source": [
    "object OptionFun {\n",
    "    def pure[A](x: A): OptionFun[A] = ???\n",
    "}\n",
    "sealed abstract class OptionFun[+A] {\n",
    "    def getValue: A = ???\n",
    "    \n",
    "    def isEmpty: Boolean = ???\n",
    "    def map[B](f:A => B): OptionFun[B] = ???\n",
    "    def apply[B](f: OptionFun[A => B]): OptionFun[B] = ???\n",
    "}\n",
    "\n",
    "final case class SomeStuff[+A](value:A) extends OptionFun[A]{\n",
    "    def get: A = ???\n",
    "}\n",
    "\n",
    "case object NoneStuff extends OptionFun[Nothing]"
   ]
  },
  {
   "cell_type": "code",
   "execution_count": 24,
   "metadata": {},
   "outputs": [
    {
     "data": {
      "text/plain": [
       "\u001b[36ma\u001b[39m: \u001b[32mInt\u001b[39m => \u001b[32mString\u001b[39m = ammonite.$sess.cmd23$Helper$$Lambda$2806/1150605593@4d727083"
      ]
     },
     "execution_count": 24,
     "metadata": {},
     "output_type": "execute_result"
    }
   ],
   "source": [
    "val a: Int => String = _.toString"
   ]
  },
  {
   "cell_type": "code",
   "execution_count": 25,
   "metadata": {},
   "outputs": [
    {
     "data": {
      "text/plain": [
       "\u001b[36mfunctionOptionFun\u001b[39m: \u001b[32mOptionFun\u001b[39m[\u001b[32mInt\u001b[39m => \u001b[32mString\u001b[39m] = \u001b[33mSomeStuff\u001b[39m(\n",
       "  ammonite.$sess.cmd23$Helper$$Lambda$2806/1150605593@4d727083\n",
       ")"
      ]
     },
     "execution_count": 25,
     "metadata": {},
     "output_type": "execute_result"
    }
   ],
   "source": [
    "val functionOptionFun = OptionFun.pure(a)"
   ]
  },
  {
   "cell_type": "code",
   "execution_count": 27,
   "metadata": {},
   "outputs": [
    {
     "name": "stdout",
     "output_type": "stream",
     "text": [
      "new value 15\n"
     ]
    },
    {
     "data": {
      "text/plain": [
       "\u001b[36mopt\u001b[39m: \u001b[32mSomeStuff\u001b[39m[\u001b[32mInt\u001b[39m] = \u001b[33mSomeStuff\u001b[39m(\u001b[32m15\u001b[39m)"
      ]
     },
     "execution_count": 27,
     "metadata": {},
     "output_type": "execute_result"
    }
   ],
   "source": [
    "val opt = SomeStuff(15)\n",
    "println(\"new value \" + opt.apply(functionOptionFun).getValue)"
   ]
  },
  {
   "cell_type": "markdown",
   "metadata": {},
   "source": [
    "Maybe seems like this is not usefull but it is"
   ]
  },
  {
   "cell_type": "markdown",
   "metadata": {},
   "source": [
    "# Monads"
   ]
  },
  {
   "cell_type": "markdown",
   "metadata": {},
   "source": [
    "Monads apply a function that returns a wrapped value to a wrapped value"
   ]
  },
  {
   "cell_type": "markdown",
   "metadata": {},
   "source": [
    "![](images/monad.png)"
   ]
  },
  {
   "cell_type": "markdown",
   "metadata": {},
   "source": [
    "Monad is a type class and it's a data type that implements the flatMap."
   ]
  },
  {
   "cell_type": "markdown",
   "metadata": {},
   "source": [
    "We have a Constructor C[_] and two types A and B, we want to apply functions of type C[A] => C[B], so we need adequate tranformations."
   ]
  },
  {
   "cell_type": "code",
   "execution_count": 28,
   "metadata": {},
   "outputs": [
    {
     "data": {
      "text/plain": [
       "defined \u001b[32mtrait\u001b[39m \u001b[36mMonad\u001b[39m"
      ]
     },
     "execution_count": 28,
     "metadata": {},
     "output_type": "execute_result"
    }
   ],
   "source": [
    "trait Monad[F[_]] extends Applicative[F] {\n",
    "    def flatMap\n",
    "}"
   ]
  },
  {
   "cell_type": "markdown",
   "metadata": {},
   "source": [
    "Using our class OptionFun:"
   ]
  },
  {
   "cell_type": "code",
   "execution_count": 29,
   "metadata": {},
   "outputs": [
    {
     "data": {
      "text/plain": [
       "defined \u001b[32mobject\u001b[39m \u001b[36mOptionFun\u001b[39m\n",
       "defined \u001b[32mclass\u001b[39m \u001b[36mOptionFun\u001b[39m\n",
       "defined \u001b[32mclass\u001b[39m \u001b[36mSomeStuff\u001b[39m\n",
       "defined \u001b[32mobject\u001b[39m \u001b[36mNoneStuff\u001b[39m"
      ]
     },
     "execution_count": 29,
     "metadata": {},
     "output_type": "execute_result"
    }
   ],
   "source": [
    "object OptionFun {\n",
    "    def pure[A](x: A): OptionFun[A] = ???\n",
    "}\n",
    "sealed abstract class OptionFun[+A] {\n",
    "    def getValue: A = ???\n",
    "    def isEmpty: Boolean = ???\n",
    "    def map[B](f:A => B): OptionFun[B] = ???\n",
    "    def apply[B](f: OptionFun[A => B]): OptionFun[B] = ???\n",
    "    def flatMap[B](f: A => OptionFun[B]): OptionFun[B] = ???\n",
    "}\n",
    "\n",
    "final case class SomeStuff[+A](value:A) extends OptionFun[A]{\n",
    "    def get: A = ???\n",
    "}\n",
    "\n",
    "case object NoneStuff extends OptionFun[Nothing]"
   ]
  },
  {
   "cell_type": "markdown",
   "metadata": {},
   "source": [
    "Why is so important the flatMap method? With it you can compose functions with wrapped values. Let see and example"
   ]
  },
  {
   "cell_type": "code",
   "execution_count": 30,
   "metadata": {},
   "outputs": [
    {
     "data": {
      "text/plain": [
       "\u001b[36ma\u001b[39m: \u001b[32mSomeStuff\u001b[39m[\u001b[32mInt\u001b[39m] = \u001b[33mSomeStuff\u001b[39m(\u001b[32m5\u001b[39m)\n",
       "\u001b[36mb\u001b[39m: \u001b[32mSomeStuff\u001b[39m[\u001b[32mInt\u001b[39m] = \u001b[33mSomeStuff\u001b[39m(\u001b[32m6\u001b[39m)\n",
       "\u001b[36mc\u001b[39m: \u001b[32mSomeStuff\u001b[39m[\u001b[32mInt\u001b[39m] = \u001b[33mSomeStuff\u001b[39m(\u001b[32m7\u001b[39m)"
      ]
     },
     "execution_count": 30,
     "metadata": {},
     "output_type": "execute_result"
    }
   ],
   "source": [
    "val a = SomeStuff(5)\n",
    "val b = SomeStuff(6)\n",
    "val c = SomeStuff(7)"
   ]
  },
  {
   "cell_type": "markdown",
   "metadata": {},
   "source": [
    "if we want to summ all the values, with flatMap and map we can:"
   ]
  },
  {
   "cell_type": "code",
   "execution_count": 31,
   "metadata": {},
   "outputs": [
    {
     "data": {
      "text/plain": [
       "\u001b[36mres30\u001b[39m: \u001b[32mOptionFun\u001b[39m[\u001b[32mInt\u001b[39m] = \u001b[33mSomeStuff\u001b[39m(\u001b[32m18\u001b[39m)"
      ]
     },
     "execution_count": 31,
     "metadata": {},
     "output_type": "execute_result"
    }
   ],
   "source": [
    "a.flatMap(value => b.flatMap(value2 => c.map(value3 => value + value2 + value3)))"
   ]
  },
  {
   "cell_type": "markdown",
   "metadata": {},
   "source": [
    "But this is not pretty. We can do it in a readable form using for comprehension:"
   ]
  },
  {
   "cell_type": "code",
   "execution_count": 32,
   "metadata": {},
   "outputs": [
    {
     "data": {
      "text/plain": [
       "\u001b[36mres31\u001b[39m: \u001b[32mOptionFun\u001b[39m[\u001b[32mInt\u001b[39m] = \u001b[33mSomeStuff\u001b[39m(\u001b[32m18\u001b[39m)"
      ]
     },
     "execution_count": 32,
     "metadata": {},
     "output_type": "execute_result"
    }
   ],
   "source": [
    "for {\n",
    "    value1 <- a\n",
    "    value2 <- b\n",
    "    value3 <- c\n",
    "} yield (value1 + value2 + value3)"
   ]
  }
 ],
 "metadata": {
  "kernelspec": {
   "display_name": "Scala 2.12",
   "language": "scala",
   "name": "scala212"
  },
  "language_info": {
   "codemirror_mode": "text/x-scala",
   "file_extension": ".sc",
   "mimetype": "text/x-scala",
   "name": "scala",
   "nbconvert_exporter": "script",
   "version": "2.12.12"
  }
 },
 "nbformat": 4,
 "nbformat_minor": 4
}
