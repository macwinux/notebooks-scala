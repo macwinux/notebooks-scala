{
 "cells": [
  {
   "cell_type": "markdown",
   "metadata": {},
   "source": [
    "# Functor"
   ]
  },
  {
   "cell_type": "markdown",
   "metadata": {},
   "source": [
    "Un Functor es una clase tipo y se define como cualquier tipo de dato al que se le puede aplicar una funcion map"
   ]
  },
  {
   "cell_type": "markdown",
   "metadata": {},
   "source": [
    "Tenemos un Contructor C[_] y dod tipos A y B, queremos aplicar funciones del tipo C[A] => C[B], asi que necesitamos transformaciones del tipo:"
   ]
  },
  {
   "cell_type": "code",
   "execution_count": 7,
   "metadata": {},
   "outputs": [
    {
     "data": {
      "text/plain": [
       "defined \u001b[32mtrait\u001b[39m \u001b[36mFunctor\u001b[39m"
      ]
     },
     "execution_count": 7,
     "metadata": {},
     "output_type": "execute_result"
    }
   ],
   "source": [
    "trait Functor[F[_]] {\n",
    "    def map[A,B](fa: F[A])(f: A => B): F[B]\n",
    "}"
   ]
  },
  {
   "cell_type": "markdown",
   "metadata": {},
   "source": [
    "![](images/functor2.png)"
   ]
  },
  {
   "cell_type": "markdown",
   "metadata": {},
   "source": [
    "Podemos testear esto con la clase Option:"
   ]
  },
  {
   "cell_type": "code",
   "execution_count": 1,
   "metadata": {},
   "outputs": [
    {
     "data": {
      "text/plain": [
       "defined \u001b[32mclass\u001b[39m \u001b[36mOptionFun\u001b[39m\n",
       "defined \u001b[32mclass\u001b[39m \u001b[36mSomeStuff\u001b[39m\n",
       "defined \u001b[32mobject\u001b[39m \u001b[36mNoneStuff\u001b[39m"
      ]
     },
     "execution_count": 1,
     "metadata": {},
     "output_type": "execute_result"
    }
   ],
   "source": [
    "sealed abstract class OptionFun[+A] {\n",
    "    def getValue: A = this match {\n",
    "        case SomeStuff(x) => x\n",
    "        case NoneStuff => throw new Exception\n",
    "    }\n",
    "    \n",
    "    def isEmpty: Boolean = this eq NoneStuff\n",
    "    def map[B](f:A => B): OptionFun[B] = if(isEmpty) NoneStuff else SomeStuff(f(this.getValue))\n",
    "}\n",
    "\n",
    "final case class SomeStuff[+A](value:A) extends OptionFun[A]{\n",
    "    def get: A = value\n",
    "}\n",
    "\n",
    "case object NoneStuff extends OptionFun[Nothing]"
   ]
  },
  {
   "cell_type": "code",
   "execution_count": 16,
   "metadata": {},
   "outputs": [
    {
     "name": "stdout",
     "output_type": "stream",
     "text": [
      "new value 15\n"
     ]
    },
    {
     "data": {
      "text/plain": [
       "\u001b[36mopt\u001b[39m: \u001b[32mSomeStuff\u001b[39m[\u001b[32mInt\u001b[39m] = \u001b[33mSomeStuff\u001b[39m(\u001b[32m15\u001b[39m)"
      ]
     },
     "execution_count": 16,
     "metadata": {},
     "output_type": "execute_result"
    }
   ],
   "source": [
    "val opt = SomeStuff(15)\n",
    "println(\"new value \" + opt.map(_.toString).getValue)"
   ]
  },
  {
   "cell_type": "markdown",
   "metadata": {},
   "source": [
    "# Applicative"
   ]
  },
  {
   "cell_type": "markdown",
   "metadata": {},
   "source": [
    "Applicative es una clase tipo y se define como cualquier tipo de dato al que se le puede aplicar una funcion apply"
   ]
  },
  {
   "cell_type": "markdown",
   "metadata": {},
   "source": [
    "Apply coge un functor que tiene una funcion en el y otro functor y extrae esa funcion del primer functor y lo mapea con el segundo."
   ]
  },
  {
   "cell_type": "markdown",
   "metadata": {},
   "source": [
    "Tenemos un Contructor C[_] y dos tipos A y B,  queremos aplicar funciones del tipo C[A] => C[B], asi que necesitamos transformaciones del tipo:"
   ]
  },
  {
   "cell_type": "code",
   "execution_count": 5,
   "metadata": {},
   "outputs": [
    {
     "data": {
      "text/plain": [
       "defined \u001b[32mtrait\u001b[39m \u001b[36mApplicative\u001b[39m"
      ]
     },
     "execution_count": 5,
     "metadata": {},
     "output_type": "execute_result"
    }
   ],
   "source": [
    "trait Applicative[F[_]] extends Functor[F] {\n",
    "    def pure[A](a: A): F[A]\n",
    "    def apply[A,B](ff: F[A => B])(fa: F[A]): F[B]\n",
    "    def map[A, B](fa: F[A])(f: A => B): F[B] = apply(pure(f))(fa)\n",
    "}"
   ]
  },
  {
   "cell_type": "markdown",
   "metadata": {},
   "source": [
    "![](images/applicative.png)"
   ]
  },
  {
   "cell_type": "markdown",
   "metadata": {},
   "source": [
    "Usando nuestra clase OptionFun:"
   ]
  },
  {
   "cell_type": "code",
   "execution_count": 23,
   "metadata": {},
   "outputs": [
    {
     "data": {
      "text/plain": [
       "defined \u001b[32mobject\u001b[39m \u001b[36mOptionFun\u001b[39m\n",
       "defined \u001b[32mclass\u001b[39m \u001b[36mOptionFun\u001b[39m\n",
       "defined \u001b[32mclass\u001b[39m \u001b[36mSomeStuff\u001b[39m\n",
       "defined \u001b[32mobject\u001b[39m \u001b[36mNoneStuff\u001b[39m"
      ]
     },
     "execution_count": 23,
     "metadata": {},
     "output_type": "execute_result"
    }
   ],
   "source": [
    "object OptionFun {\n",
    "    def pure[A](x: A): OptionFun[A] = if(x == null) NoneStuff else SomeStuff(x)\n",
    "}\n",
    "sealed abstract class OptionFun[+A] {\n",
    "    def getValue: A = this match {\n",
    "        case SomeStuff(x) => x\n",
    "        case NoneStuff => throw new Exception\n",
    "    }\n",
    "    \n",
    "    def isEmpty: Boolean = this eq NoneStuff\n",
    "    def map[B](f:A => B): OptionFun[B] = if(isEmpty) NoneStuff else SomeStuff(f(this.getValue))\n",
    "    def apply[B](f: OptionFun[A => B]): OptionFun[B] = f.map(f => f(this.getValue))\n",
    "}\n",
    "\n",
    "final case class SomeStuff[+A](value:A) extends OptionFun[A]{\n",
    "    def get: A = value\n",
    "}\n",
    "\n",
    "case object NoneStuff extends OptionFun[Nothing]"
   ]
  },
  {
   "cell_type": "code",
   "execution_count": 24,
   "metadata": {},
   "outputs": [
    {
     "data": {
      "text/plain": [
       "\u001b[36ma\u001b[39m: \u001b[32mInt\u001b[39m => \u001b[32mString\u001b[39m = ammonite.$sess.cmd23$Helper$$Lambda$2806/1150605593@4d727083"
      ]
     },
     "execution_count": 24,
     "metadata": {},
     "output_type": "execute_result"
    }
   ],
   "source": [
    "val a: Int => String = _.toString"
   ]
  },
  {
   "cell_type": "code",
   "execution_count": 25,
   "metadata": {},
   "outputs": [
    {
     "data": {
      "text/plain": [
       "\u001b[36mfunctionOptionFun\u001b[39m: \u001b[32mOptionFun\u001b[39m[\u001b[32mInt\u001b[39m => \u001b[32mString\u001b[39m] = \u001b[33mSomeStuff\u001b[39m(\n",
       "  ammonite.$sess.cmd23$Helper$$Lambda$2806/1150605593@4d727083\n",
       ")"
      ]
     },
     "execution_count": 25,
     "metadata": {},
     "output_type": "execute_result"
    }
   ],
   "source": [
    "val functionOptionFun = OptionFun.pure(a)"
   ]
  },
  {
   "cell_type": "code",
   "execution_count": 27,
   "metadata": {},
   "outputs": [
    {
     "name": "stdout",
     "output_type": "stream",
     "text": [
      "new value 15\n"
     ]
    },
    {
     "data": {
      "text/plain": [
       "\u001b[36mopt\u001b[39m: \u001b[32mSomeStuff\u001b[39m[\u001b[32mInt\u001b[39m] = \u001b[33mSomeStuff\u001b[39m(\u001b[32m15\u001b[39m)"
      ]
     },
     "execution_count": 27,
     "metadata": {},
     "output_type": "execute_result"
    }
   ],
   "source": [
    "val opt = SomeStuff(15)\n",
    "println(\"new value \" + opt.apply(functionOptionFun).getValue)"
   ]
  },
  {
   "cell_type": "markdown",
   "metadata": {},
   "source": [
    "Puede parecer que no es muy util pero lo es."
   ]
  },
  {
   "cell_type": "markdown",
   "metadata": {},
   "source": [
    "# Monads"
   ]
  },
  {
   "cell_type": "markdown",
   "metadata": {},
   "source": [
    "Monadas aplican una función que devuleve un valor envuelto de un valor envuelto (complicado de explicar)."
   ]
  },
  {
   "cell_type": "markdown",
   "metadata": {},
   "source": [
    "![](images/monad.png)"
   ]
  },
  {
   "cell_type": "markdown",
   "metadata": {},
   "source": [
    "Una monada es una clase tipo y es un tipo de dato que implementa la función flatMap"
   ]
  },
  {
   "cell_type": "markdown",
   "metadata": {},
   "source": [
    "Tenemos un Constructor C[_] y dos tipos A y B, queremos aplicar funciones del tipo C[A] => C[B],  asi que necesitamos transformaciones del tipo:"
   ]
  },
  {
   "cell_type": "code",
   "execution_count": 28,
   "metadata": {},
   "outputs": [
    {
     "data": {
      "text/plain": [
       "defined \u001b[32mtrait\u001b[39m \u001b[36mMonad\u001b[39m"
      ]
     },
     "execution_count": 28,
     "metadata": {},
     "output_type": "execute_result"
    }
   ],
   "source": [
    "trait Monad[F[_]] extends Applicative[F] {\n",
    "    def flatMap[A,B](ff: A => F[B])(fa: F[A]): F[B]\n",
    "}"
   ]
  },
  {
   "cell_type": "markdown",
   "metadata": {},
   "source": [
    "Usando nuestra clase OptionFun:"
   ]
  },
  {
   "cell_type": "code",
   "execution_count": 29,
   "metadata": {},
   "outputs": [
    {
     "data": {
      "text/plain": [
       "defined \u001b[32mobject\u001b[39m \u001b[36mOptionFun\u001b[39m\n",
       "defined \u001b[32mclass\u001b[39m \u001b[36mOptionFun\u001b[39m\n",
       "defined \u001b[32mclass\u001b[39m \u001b[36mSomeStuff\u001b[39m\n",
       "defined \u001b[32mobject\u001b[39m \u001b[36mNoneStuff\u001b[39m"
      ]
     },
     "execution_count": 29,
     "metadata": {},
     "output_type": "execute_result"
    }
   ],
   "source": [
    "object OptionFun {\n",
    "    def pure[A](x: A): OptionFun[A] = if(x == null) NoneStuff else SomeStuff(x)\n",
    "}\n",
    "sealed abstract class OptionFun[+A] {\n",
    "    def getValue: A = this match {\n",
    "        case SomeStuff(x) => x\n",
    "        case NoneStuff => throw new Exception\n",
    "    }\n",
    "    \n",
    "    def isEmpty: Boolean = this eq NoneStuff\n",
    "    def map[B](f:A => B): OptionFun[B] = if(isEmpty) NoneStuff else SomeStuff(f(this.getValue))\n",
    "    def apply[B](f: OptionFun[A => B]): OptionFun[B] = f.map(f => f(this.getValue))\n",
    "    def flatMap[B](f: A => OptionFun[B]): OptionFun[B] = if(isEmpty) NoneStuff else f(this.getValue)\n",
    "}\n",
    "\n",
    "final case class SomeStuff[+A](value:A) extends OptionFun[A]{\n",
    "    def get: A = value\n",
    "}\n",
    "\n",
    "case object NoneStuff extends OptionFun[Nothing]"
   ]
  },
  {
   "cell_type": "markdown",
   "metadata": {},
   "source": [
    "¿Porque es tan importante el método flatMap? Con este método puedes componer funciones con valores envueltos. Vamos a ver un ejemplo:"
   ]
  },
  {
   "cell_type": "code",
   "execution_count": 30,
   "metadata": {},
   "outputs": [
    {
     "data": {
      "text/plain": [
       "\u001b[36ma\u001b[39m: \u001b[32mSomeStuff\u001b[39m[\u001b[32mInt\u001b[39m] = \u001b[33mSomeStuff\u001b[39m(\u001b[32m5\u001b[39m)\n",
       "\u001b[36mb\u001b[39m: \u001b[32mSomeStuff\u001b[39m[\u001b[32mInt\u001b[39m] = \u001b[33mSomeStuff\u001b[39m(\u001b[32m6\u001b[39m)\n",
       "\u001b[36mc\u001b[39m: \u001b[32mSomeStuff\u001b[39m[\u001b[32mInt\u001b[39m] = \u001b[33mSomeStuff\u001b[39m(\u001b[32m7\u001b[39m)"
      ]
     },
     "execution_count": 30,
     "metadata": {},
     "output_type": "execute_result"
    }
   ],
   "source": [
    "val a = SomeStuff(5)\n",
    "val b = SomeStuff(6)\n",
    "val c = SomeStuff(7)"
   ]
  },
  {
   "cell_type": "markdown",
   "metadata": {},
   "source": [
    "Si queremos sumar todos los valores, con los métodos map y flatMap podemos:"
   ]
  },
  {
   "cell_type": "code",
   "execution_count": 31,
   "metadata": {},
   "outputs": [
    {
     "data": {
      "text/plain": [
       "\u001b[36mres30\u001b[39m: \u001b[32mOptionFun\u001b[39m[\u001b[32mInt\u001b[39m] = \u001b[33mSomeStuff\u001b[39m(\u001b[32m18\u001b[39m)"
      ]
     },
     "execution_count": 31,
     "metadata": {},
     "output_type": "execute_result"
    }
   ],
   "source": [
    "a.flatMap(value => b.flatMap(value2 => c.map(value3 => value + value2 + value3)))"
   ]
  },
  {
   "cell_type": "markdown",
   "metadata": {},
   "source": [
    "Pero no es muy bonito. Podemos hacerlo de manera mas limpia usando for comprehension:"
   ]
  },
  {
   "cell_type": "code",
   "execution_count": 32,
   "metadata": {},
   "outputs": [
    {
     "data": {
      "text/plain": [
       "\u001b[36mres31\u001b[39m: \u001b[32mOptionFun\u001b[39m[\u001b[32mInt\u001b[39m] = \u001b[33mSomeStuff\u001b[39m(\u001b[32m18\u001b[39m)"
      ]
     },
     "execution_count": 32,
     "metadata": {},
     "output_type": "execute_result"
    }
   ],
   "source": [
    "for {\n",
    "    value1 <- a\n",
    "    value2 <- b\n",
    "    value3 <- c\n",
    "} yield (value1 + value2 + value3)"
   ]
  }
 ],
 "metadata": {
  "kernelspec": {
   "display_name": "Scala 2.12",
   "language": "scala",
   "name": "scala212"
  },
  "language_info": {
   "codemirror_mode": "text/x-scala",
   "file_extension": ".sc",
   "mimetype": "text/x-scala",
   "name": "scala",
   "nbconvert_exporter": "script",
   "version": "2.12.12"
  }
 },
 "nbformat": 4,
 "nbformat_minor": 4
}
