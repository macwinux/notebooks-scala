{
 "cells": [
  {
   "cell_type": "markdown",
   "metadata": {},
   "source": [
    "# Functor"
   ]
  },
  {
   "cell_type": "markdown",
   "metadata": {},
   "source": [
    "A Functor is a type class and is any data type that defines how map applies to it."
   ]
  },
  {
   "cell_type": "markdown",
   "metadata": {},
   "source": [
    "We have a Constructor C[_] and two types A and B, we want to apply functions of type C[A] => C[B], so we need adequate tranformations."
   ]
  },
  {
   "cell_type": "code",
   "execution_count": 1,
   "metadata": {},
   "outputs": [
    {
     "data": {
      "text/plain": [
       "defined \u001b[32mtrait\u001b[39m \u001b[36mFunctor\u001b[39m"
      ]
     },
     "execution_count": 1,
     "metadata": {},
     "output_type": "execute_result"
    }
   ],
   "source": [
    "trait Functor[F[_]] {\n",
    "    def map[A,B](fa: F[A])(f: A => B): F[B]\n",
    "}"
   ]
  },
  {
   "cell_type": "markdown",
   "metadata": {},
   "source": [
    "We can use this, for example:"
   ]
  },
  {
   "cell_type": "code",
   "execution_count": 8,
   "metadata": {},
   "outputs": [
    {
     "data": {
      "text/plain": [
       "defined \u001b[32mclass\u001b[39m \u001b[36mFoo\u001b[39m"
      ]
     },
     "execution_count": 8,
     "metadata": {},
     "output_type": "execute_result"
    }
   ],
   "source": [
    "case class Foo[A](value: A) {\n",
    "    def map[B] (f:A => B): Foo[B] = Foo(f(value))\n",
    "}"
   ]
  },
  {
   "cell_type": "code",
   "execution_count": 14,
   "metadata": {},
   "outputs": [
    {
     "name": "stdout",
     "output_type": "stream",
     "text": [
      "15 is a type of class java.lang.String\n"
     ]
    },
    {
     "data": {
      "text/plain": [
       "\u001b[36mfoo\u001b[39m: \u001b[32mFoo\u001b[39m[\u001b[32mInt\u001b[39m] = \u001b[33mFoo\u001b[39m(\u001b[32m15\u001b[39m)\n",
       "\u001b[36mfooString\u001b[39m: \u001b[32mFoo\u001b[39m[\u001b[32mString\u001b[39m] = \u001b[33mFoo\u001b[39m(\u001b[32m\"15\"\u001b[39m)"
      ]
     },
     "execution_count": 14,
     "metadata": {},
     "output_type": "execute_result"
    }
   ],
   "source": [
    "val foo = Foo(15)\n",
    "val fooString = foo.map(value => value.toString)\n",
    "println(fooString.value + \" is a type of \" + fooString.value.getClass.toString)"
   ]
  },
  {
   "cell_type": "markdown",
   "metadata": {},
   "source": [
    "# Applicative"
   ]
  },
  {
   "cell_type": "markdown",
   "metadata": {},
   "source": [
    "Applicative is a type class and is any data type that defines how apply applies to it."
   ]
  },
  {
   "cell_type": "markdown",
   "metadata": {},
   "source": [
    "Apply takes a functor that has a function in it and another functor and extracts that function from the first functor and then maps it over the second one."
   ]
  },
  {
   "cell_type": "markdown",
   "metadata": {},
   "source": [
    "We have a Constructor C[_] and two types A and B, we want to apply functions of type C[A] => C[B], so we need adequate tranformations."
   ]
  },
  {
   "cell_type": "code",
   "execution_count": null,
   "metadata": {},
   "outputs": [],
   "source": [
    "trait Applicative[F[_]] extend Functor[F] {\n",
    "    def apply\n",
    "}"
   ]
  }
 ],
 "metadata": {
  "kernelspec": {
   "display_name": "Scala 2.12",
   "language": "scala",
   "name": "scala212"
  },
  "language_info": {
   "codemirror_mode": "text/x-scala",
   "file_extension": ".sc",
   "mimetype": "text/x-scala",
   "name": "scala",
   "nbconvert_exporter": "script",
   "version": "2.12.12"
  }
 },
 "nbformat": 4,
 "nbformat_minor": 4
}
